{
 "cells": [
  {
   "cell_type": "code",
   "execution_count": null,
   "id": "48286b1d-9b0f-4497-b8e8-c5c6620d6453",
   "metadata": {},
   "outputs": [],
   "source": [
    "#Answer1\n",
    "Ans: For loops are used when you have a known number of iterations or when you want to iterate through a sequence (list, tuple, string, etc.) to perform an action for each item in the sequence.\n",
    "\n",
    "Example:\n",
    "\n",
    "# print the numbers 0 to 9\n",
    "for i in range(10):\n",
    "    print(i)\n",
    "    \n",
    "While loops are used when you want to keep executing a block of code as long as a certain condition is met.\n",
    "\n",
    "Example:\n",
    "\n",
    "# print the numbers 0 to 9\n",
    "i = 0\n",
    "while i < 10:\n",
    "    print(i)\n",
    "    i += 1"
   ]
  },
  {
   "cell_type": "code",
   "execution_count": null,
   "id": "09cf26fe-1d16-4d05-a92b-9122c31386f0",
   "metadata": {},
   "outputs": [],
   "source": [
    "#Answer2\n",
    "Ans: Here's an example using a for loop to print the sum and product of the first 10 natural numbers:\n",
    "\n",
    "sum = 0\n",
    "product = 1\n",
    "\n",
    "for i in range(1, 11):\n",
    "    sum += i\n",
    "    product *= i\n",
    "\n",
    "print(\"The sum of the first 10 natural numbers is:\", sum)\n",
    "print(\"The product of the first 10 natural numbers is:\", product)\n",
    "\n",
    "And here's an example using a while loop:\n",
    "\n",
    "sum = 0\n",
    "product = 1\n",
    "i = 1\n",
    "\n",
    "while i <= 10:\n",
    "    sum += i\n",
    "    product *= i\n",
    "    i += 1\n",
    "\n",
    "print(\"The sum of the first 10 natural numbers is:\", sum)\n",
    "print(\"The product of the first 10 natural numbers is:\", product)"
   ]
  },
  {
   "cell_type": "code",
   "execution_count": null,
   "id": "5631f373-e7e4-49dc-b067-73e664e44fca",
   "metadata": {},
   "outputs": [],
   "source": [
    "#Answer3\n",
    "units = int(input(\"Enter the units of electricity consumed: \"))\n",
    "\n",
    "if units <= 100:\n",
    "    bill = units * 4.5\n",
    "elif units <= 200:\n",
    "    bill = 100 * 4.5 + (units - 100) * 6\n",
    "elif units <= 300:\n",
    "    bill = 100 * 4.5 + 100 * 6 + (units - 200) * 10\n",
    "else:\n",
    "    bill = 100 * 4.5 + 100 * 6 + 100 * 10 + (units - 300) * 20\n",
    "\n",
    "print(\"The total electricity bill is: Rs.\", bill)"
   ]
  },
  {
   "cell_type": "code",
   "execution_count": null,
   "id": "f5601ff9-28bd-45c8-b7a6-2e1bbf417e91",
   "metadata": {},
   "outputs": [],
   "source": [
    "#Answer4\n",
    "Ans: Here is a program that uses a for loop to create a list of numbers from 1 to 100, and then calculates the cube of each number and appends the numbers that are divisible by 4 or 5 to a new list:\n",
    "\n",
    "numbers = []\n",
    "cube_divisible = []\n",
    "\n",
    "for i in range(1, 101):\n",
    "    numbers.append(i)\n",
    "    cube = i ** 3\n",
    "    if cube % 4 == 0 or cube % 5 == 0:\n",
    "        cube_divisible.append(cube)\n",
    "\n",
    "print(\"The list of cubes that are divisible by 4 or 5:\", cube_divisible)\n",
    "\n",
    "And here is the same program using a while loop:\n",
    "\n",
    "numbers = []\n",
    "cube_divisible = []\n",
    "i = 1\n",
    "\n",
    "while i <= 100:\n",
    "    numbers.append(i)\n",
    "    cube = i ** 3\n",
    "    if cube % 4 == 0 or cube % 5 == 0:\n",
    "        cube_divisible.append(cube)\n",
    "    i += 1\n",
    "\n",
    "print(\"The list of cubes that are divisible by 4 or 5:\", cube_divisible)"
   ]
  },
  {
   "cell_type": "code",
   "execution_count": null,
   "id": "2c0a1b75-03a8-4c43-809f-bffa4780c873",
   "metadata": {},
   "outputs": [],
   "source": [
    "#Answer5\n",
    "string = \"I want to become a data scientist\"\n",
    "vowels = \"aeiouAEIOU\"\n",
    "count = 0\n",
    "\n",
    "for char in string:\n",
    "    if char in vowels:\n",
    "        count += 1\n",
    "\n",
    "print(\"The number of vowels in the string is:\", count)"
   ]
  },
  {
   "cell_type": "code",
   "execution_count": null,
   "id": "012ca940-a575-4309-9ec8-916d6552b6e8",
   "metadata": {},
   "outputs": [],
   "source": []
  }
 ],
 "metadata": {
  "kernelspec": {
   "display_name": "Python 3 (ipykernel)",
   "language": "python",
   "name": "python3"
  },
  "language_info": {
   "codemirror_mode": {
    "name": "ipython",
    "version": 3
   },
   "file_extension": ".py",
   "mimetype": "text/x-python",
   "name": "python",
   "nbconvert_exporter": "python",
   "pygments_lexer": "ipython3",
   "version": "3.10.8"
  }
 },
 "nbformat": 4,
 "nbformat_minor": 5
}
